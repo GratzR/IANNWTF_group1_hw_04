{
 "cells": [
  {
   "cell_type": "code",
   "execution_count": 1,
   "metadata": {},
   "outputs": [],
   "source": [
    "import numpy as np\n",
    "\n",
    "import tensorflow as tf\n",
    "import matplotlib.pyplot as plt\n",
    "\n",
    "import tensorflow_datasets as tfds"
   ]
  },
  {
   "cell_type": "code",
   "execution_count": 2,
   "metadata": {},
   "outputs": [],
   "source": [
    "(train_data, test_data), ds_info = tfds.load('malaria', split=['train[:80%]', 'train[80%:]'], shuffle_files=True, as_supervised=True, with_info=True)\n",
    "\n",
    "train_data = train_data.map(lambda sample, target: (tf.image.resize_with_pad(sample,128,128), tf.one_hot(target,depth=1)))\n",
    "train_data = train_data.batch(64)\n",
    "train_data = train_data.prefetch(50)\n",
    "\n",
    "test_data = test_data.map(lambda sample, target: (tf.image.resize_with_pad(sample,128,128), tf.one_hot(target,depth=1)))\n",
    "test_data = test_data.batch(64)\n",
    "test_data = test_data.prefetch(50)"
   ]
  },
  {
   "cell_type": "code",
   "execution_count": 3,
   "metadata": {},
   "outputs": [],
   "source": [
    "from tensorflow.keras import Model\n",
    "from tensorflow.keras.layers import Layer\n",
    "\n",
    "class Model(Model): \n",
    "    \n",
    "    def __init__(self):\n",
    "        super(Model, self).__init__()\n",
    "        # Define the three layers.\n",
    "        self.conv_1 = tf.keras.layers.Conv2D(filters = 16, kernel_size = 3,\n",
    "                                               activation=tf.keras.activations.relu, input_shape = (128,128,3)\n",
    "                                               )\n",
    "        self.max_pool_1 = tf.keras.layers.MaxPool2D()\n",
    "        self.conv_2 = tf.keras.layers.Conv2D(filters = 32, kernel_size = 3,\n",
    "                                               activation=tf.keras.activations.relu\n",
    "                                               )\n",
    "        self.max_pool_2 = tf.keras.layers.MaxPool2D()\n",
    "        self.conv_3 = tf.keras.layers.Conv2D(filters = 64, kernel_size = 3,\n",
    "                                               activation=tf.keras.activations.relu\n",
    "                                               )\n",
    "        self.max_pool_3 = tf.keras.layers.MaxPool2D()\n",
    "        self.conv_4 = tf.keras.layers.Conv2D(filters = 128, kernel_size = 3,\n",
    "                                               activation=tf.keras.activations.relu\n",
    "                                               )\n",
    "        self.max_pool_4 = tf.keras.layers.MaxPool2D()\n",
    "\n",
    "        self.global_pool = tf.keras.layers.GlobalAveragePooling2D()\n",
    "\n",
    "        self.output_layer = tf.keras.layers.Dense(1,\n",
    "                                                  activation = tf.keras.activations.sigmoid\n",
    "                                                  )\n",
    "\n",
    "    def call(self, x):\n",
    "        # Define the forward step.\n",
    "        x = self.conv_1(x)\n",
    "        x = self.max_pool_1(x)\n",
    "        x = self.conv_2(x)\n",
    "        x = self.max_pool_2(x)\n",
    "        x = self.conv_3(x)\n",
    "        x = self.max_pool_3(x)\n",
    "        x = self.conv_4(x)\n",
    "        x = self.max_pool_4(x)\n",
    "        x = self.global_pool(x)\n",
    "        x = self.output_layer(x)\n",
    "\n",
    "        return x"
   ]
  },
  {
   "cell_type": "code",
   "execution_count": 4,
   "metadata": {},
   "outputs": [],
   "source": [
    "def train_step(model, input, target, loss_function, optimizer):\n",
    "    # loss_object and optimizer_object are instances of respective tensorflow classes\n",
    "    with tf.GradientTape() as tape:\n",
    "        prediction = model(input)\n",
    "        loss = loss_function(target, prediction)\n",
    "        gradients = tape.gradient(loss, model.trainable_variables)\n",
    "    optimizer.apply_gradients(zip(gradients, model.trainable_variables))\n",
    "    return loss \n",
    "\n",
    "def test(model, test_data, loss_function):\n",
    "    # test over complete test data\n",
    "    test_accuracy_aggregator = []\n",
    "    test_loss_aggregator = []\n",
    "\n",
    "    for (input, target) in test_data:\n",
    "        prediction = model(input)\n",
    "        sample_test_loss = loss_function(target, prediction)\n",
    "        \n",
    "        sample_test_accuracy = np.mean(abs(target - prediction) < 0.5)\n",
    "        \n",
    "        test_loss_aggregator.append(sample_test_loss.numpy())\n",
    "        test_accuracy_aggregator.append(np.mean(sample_test_accuracy))\n",
    "\n",
    "    test_loss = np.mean(test_loss_aggregator)\n",
    "    test_accuracy = np.mean(test_accuracy_aggregator)\n",
    "\n",
    "    return test_loss, test_accuracy"
   ]
  },
  {
   "cell_type": "code",
   "execution_count": 5,
   "metadata": {},
   "outputs": [
    {
     "name": "stdout",
     "output_type": "stream",
     "text": [
      "Epoch: __ 0\n",
      "Epoch: __ 1\n",
      "Epoch: __ 2\n",
      "Epoch: __ 3\n",
      "Epoch: __ 4\n",
      "Epoch: __ 5\n",
      "Epoch: __ 6\n",
      "Epoch: __ 7\n",
      "Epoch: __ 8\n",
      "Epoch: __ 9\n",
      "Epoch: __ 10\n",
      "Epoch: __ 11\n",
      "Epoch: __ 12\n",
      "Epoch: __ 13\n",
      "Epoch: __ 14\n",
      "Epoch: __ 15\n",
      "Epoch: __ 16\n",
      "Epoch: __ 17\n",
      "Epoch: __ 18\n",
      "Epoch: __ 19\n"
     ]
    }
   ],
   "source": [
    "tf.keras.backend.clear_session()\n",
    "\n",
    "### Hyperparameters\n",
    "num_epochs = 20\n",
    "learning_rate = 0.00001\n",
    "running_average_factor = 0.95\n",
    "\n",
    "# Initialize the model.\n",
    "model = Model()\n",
    "# Initialize the loss: categorical cross entropy. Check out 'tf.keras.losses'.\n",
    "binary_crossentropy = tf.keras.losses.BinaryCrossentropy()\n",
    "# Initialize the optimizer: Adam with default parameters. Check out 'tf.keras.optimizers'\n",
    "optimizer = tf.keras.optimizers.Adam(learning_rate)\n",
    "\n",
    "# Initialize lists for later visualization.\n",
    "train_losses = []\n",
    "\n",
    "test_losses = []\n",
    "test_accuracies = []\n",
    "\n",
    "#testing once before we begin\n",
    "test_loss, test_accuracy = test(model, test_data, binary_crossentropy)\n",
    "test_losses.append(test_loss)\n",
    "test_accuracies.append(test_accuracy)\n",
    "\n",
    "#check how model performs on train data once before we begin\n",
    "train_loss, _ = test(model, train_data, binary_crossentropy)\n",
    "train_losses.append(train_loss)\n",
    "\n",
    "# We train for num_epochs epochs.\n",
    "for epoch in range(num_epochs):\n",
    "    print('Epoch: __ ' + str(epoch))\n",
    "\n",
    "    train_data = train_data.shuffle(buffer_size=128)\n",
    "    test_data = test_data.shuffle(buffer_size=128)\n",
    "\n",
    "    #training (and checking in with training)\n",
    "    running_average = 0\n",
    "    for (input,target) in train_data:\n",
    "        train_loss = train_step(model, input, target, binary_crossentropy, optimizer)\n",
    "        running_average = running_average_factor * running_average  + (1 - running_average_factor) * train_loss\n",
    "    train_losses.append(running_average)\n",
    "\n",
    "    #testing\n",
    "    test_loss, test_accuracy = test(model, test_data, binary_crossentropy)\n",
    "    test_losses.append(test_loss)\n",
    "    test_accuracies.append(test_accuracy)"
   ]
  },
  {
   "cell_type": "code",
   "execution_count": 6,
   "metadata": {},
   "outputs": [
    {
     "data": {
      "image/png": "[encoded data removed]",
      "text/plain": [
       "<Figure size 432x288 with 1 Axes>"
      ]
     },
     "metadata": {
      "needs_background": "light"
     },
     "output_type": "display_data"
    },
    {
     "data": {
      "image/png": "[encoded data removed]",
      "text/plain": [
       "<Figure size 432x288 with 1 Axes>"
      ]
     },
     "metadata": {
      "needs_background": "light"
     },
     "output_type": "display_data"
    }
   ],
   "source": [
    "# Visualize accuracy and loss for training and test data. \n",
    "# One plot training and test loss.\n",
    "# One plot training and test accuracy.\n",
    "plt.figure()\n",
    "line1, = plt.plot(train_losses)\n",
    "line2, = plt.plot(test_losses)\n",
    "plt.xlabel(\"Training steps\")\n",
    "plt.ylabel(\"Loss\")\n",
    "plt.ylim([0.1, 1.1])\n",
    "plt.legend((line1,line2),(\"training\",\"test\"))\n",
    "plt.show()\n",
    "\n",
    "plt.figure()\n",
    "line1, = plt.plot(test_accuracies)\n",
    "plt.title(\"accuracy: \" + str(np.max(test_accuracies)))\n",
    "plt.xlabel(\"Training steps\")\n",
    "plt.ylabel(\"Accuracy\")\n",
    "plt.show()"
   ]
  }
 ],
 "metadata": {
  "kernelspec": {
   "display_name": "Python 3",
   "language": "python",
   "name": "python3"
  },
  "language_info": {
   "codemirror_mode": {
    "name": "ipython",
    "version": 3
   },
   "file_extension": ".py",
   "mimetype": "text/x-python",
   "name": "python",
   "nbconvert_exporter": "python",
   "pygments_lexer": "ipython3",
   "version": "3.7.9"
  }
 },
 "nbformat": 4,
 "nbformat_minor": 4
}
